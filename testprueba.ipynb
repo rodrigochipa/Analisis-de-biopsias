{
 "cells": [
  {
   "cell_type": "code",
   "execution_count": null,
   "metadata": {},
   "outputs": [],
   "source": [
    "%matplotlib notebook\n",
    "import matplotlib.pyplot as plt\n",
    "\n",
    "\n",
    "img = plt.imread('PAS.jpg')\n",
    "img_bw = 0.2989*img[:, :, 0] + 0.587*img[:, :, 1]+ 0.114*img[:, :, 2]\n",
    "\n",
    "display(img_bw.shape)\n",
    "display(img_bw.dtype)\n",
    "\n",
    "plt.figure(figsize=(4, 4))\n",
    "plt.imshow(img_bw, cmap=plt.cm.Greys_r);"
   ]
  },
  {
   "cell_type": "code",
   "execution_count": null,
   "metadata": {},
   "outputs": [],
   "source": [
    "import torch\n",
    "display(torch.cuda.is_available())\n",
    "import os\n",
    "\n",
    "import sys\n",
    "sys.path.append(\"../NucleiSegmentation/\")\n",
    "\n",
    "from options.test_options import TestOptions\n",
    "from data import CreateDataLoader\n",
    "from models import create_model\n",
    "#from util.visualizer import save_images\n",
    "from util import html"
   ]
  },
  {
   "cell_type": "markdown",
   "metadata": {},
   "source": [
    "--dataroot <datapath> --name NU_SEG --gpu_ids 0 --display_id 0 \n",
    "--loadSize 256 --fineSize 256"
   ]
  },
  {
   "cell_type": "code",
   "execution_count": null,
   "metadata": {
    "scrolled": false
   },
   "outputs": [],
   "source": [
    "opt = TestOptions()#.parse()\n",
    "opt.nThreads = 1   # test code only supports nThreads = 1\n",
    "opt.batchSize = 1  # test code only supports batchSize = 1\n",
    "opt.serial_batches = True  # no shuffle\n",
    "opt.no_flip = True  # no flip\n",
    "opt.display_id = -1  # no visdom display\n",
    "opt.dataset_mode = \"single\"\n",
    "opt.dataroot = \".\"\n",
    "opt.phase = \"test\"\n",
    "opt.loadSize = 256\n",
    "opt.fineSize = 256\n",
    "opt.isTrain = False\n",
    "opt.input_nc = 3\n",
    "opt.output_nc = 3\n",
    "opt.gpu_ids = [0]\n",
    "opt.name = \"NU_SEG\"\n",
    "opt.model_suffix = \"\"\n",
    "opt.checkpoints_dir = \"../NucleiSegmentation/checkpoints/\"\n",
    "opt.model = \"test\"\n",
    "opt.ngf = 64\n",
    "opt.norm = \"instance\"\n",
    "opt.which_model_netG = \"unet_256\"\n",
    "opt.resize_or_crop = \"resize_and_crop\"\n",
    "opt.which_epoch = \"latest\"\n",
    "opt.no_dropout = \"store_true\"\n",
    "opt.init_type = \"normal\"\n",
    "opt.init_gain = 0.02\n",
    "opt.verbose = \"store_true\"\n",
    "data_loader = CreateDataLoader(opt)\n",
    "dataset = data_loader.load_data()\n",
    "model = create_model(opt)\n",
    "model.setup(opt)\n",
    "    # create website"
   ]
  },
  {
   "cell_type": "code",
   "execution_count": null,
   "metadata": {},
   "outputs": [],
   "source": [
    "data = {'A': torch.from_numpy(img[:256, :256, :].T.astype('float32')).unsqueeze(0)/255, 'A_paths': '.'}\n",
    "model.set_input(data)\n",
    "model.test()"
   ]
  },
  {
   "cell_type": "code",
   "execution_count": null,
   "metadata": {},
   "outputs": [],
   "source": [
    "visuals = model.get_current_visuals()\n",
    "result = visuals['fake_B'].cpu().numpy()[0, :, :, :].T\n",
    "display(result.shape)\n",
    "fig, ax = plt.subplots(1, 2, figsize=(7, 4), tight_layout=True)\n",
    "ax[0].imshow(img[:256, :256, :])\n",
    "ax[1].imshow(result[:, :, 0]>0)"
   ]
  },
  {
   "cell_type": "markdown",
   "metadata": {},
   "source": [
    "# TODO\n",
    "- Verificar la entrada que espera la red: si es necesario preprocesar (ver ejemplos en el repo NucleiSegmentation, la parte donde importa la imagen y se la da a la red)\n",
    "- Interpretar la salida que retorna results \n",
    "    - Que significa cada canal\n",
    "    - Que significa el rango [-1,1]\n",
    "- En base a eso binarizar la imagen tal que se visualizen celulas (en blanco) y fondo (en negro)\n",
    "- Escribir un código que recorra la imagen ventana a ventana y junte los resultados\n",
    "- Usando la imagen binarizada registrar las entidades y contar (opencv)"
   ]
  },
  {
   "cell_type": "code",
   "execution_count": null,
   "metadata": {},
   "outputs": [],
   "source": []
  }
 ],
 "metadata": {
  "kernelspec": {
   "display_name": "Python3 (pyro)",
   "language": "python",
   "name": "pyro-env"
  },
  "language_info": {
   "codemirror_mode": {
    "name": "ipython",
    "version": 3
   },
   "file_extension": ".py",
   "mimetype": "text/x-python",
   "name": "python",
   "nbconvert_exporter": "python",
   "pygments_lexer": "ipython3",
   "version": "3.7.3"
  }
 },
 "nbformat": 4,
 "nbformat_minor": 2
}
